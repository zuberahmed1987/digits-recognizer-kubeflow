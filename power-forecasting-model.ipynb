{
 "cells": [
  {
   "cell_type": "code",
   "execution_count": null,
   "id": "37724fa5-d078-48ca-a991-8e3527b115d5",
   "metadata": {},
   "outputs": [],
   "source": [
    "pip install boto3 mlflow==2.7.1"
   ]
  },
  {
   "cell_type": "markdown",
   "id": "c8227215-bee0-45ec-a57d-febecd60086a",
   "metadata": {},
   "source": [
    "## Load the dataset\n",
    "\n",
    "The following cells load a dataset containing weather data and power output information for a wind farm in the United States. \n",
    "The dataset contains wind direction, wind speed, and air temperature features sampled every eight hours (once at 00:00, once at 08:00, and once at 16:00), as well as daily aggregate power output (power), over several years."
   ]
  },
  {
   "cell_type": "code",
   "execution_count": 1,
   "id": "e60a42a6-54f6-41cc-86bf-08d1a5b8c4ff",
   "metadata": {},
   "outputs": [],
   "source": [
    "# Load the dataset\n",
    "\n",
    "import pandas as pd\n",
    "wind_farm_data = pd.read_csv(\"https://github.com/dbczumar/model-registry-demo-notebook/raw/master/dataset/windfarm_data.csv\", index_col=0)\n",
    " \n",
    "def get_training_data():\n",
    "  training_data = pd.DataFrame(wind_farm_data[\"2014-01-01\":\"2018-01-01\"])\n",
    "  X = training_data.drop(columns=\"power\")\n",
    "  y = training_data[\"power\"]\n",
    "  return X, y\n",
    " \n",
    "def get_validation_data():\n",
    "  validation_data = pd.DataFrame(wind_farm_data[\"2018-01-01\":\"2019-01-01\"])\n",
    "  X = validation_data.drop(columns=\"power\")\n",
    "  y = validation_data[\"power\"]\n",
    "  return X, y\n",
    " \n",
    "def get_weather_and_forecast():\n",
    "  format_date = lambda pd_date : pd_date.date().strftime(\"%Y-%m-%d\")\n",
    "  today = pd.Timestamp('today').normalize()\n",
    "  week_ago = today - pd.Timedelta(days=5)\n",
    "  week_later = today + pd.Timedelta(days=5)\n",
    "  \n",
    "  past_power_output = pd.DataFrame(wind_farm_data)[format_date(week_ago):format_date(today)]\n",
    "  weather_and_forecast = pd.DataFrame(wind_farm_data)[format_date(week_ago):format_date(week_later)]\n",
    "  if len(weather_and_forecast) < 10:\n",
    "    past_power_output = pd.DataFrame(wind_farm_data).iloc[-10:-5]\n",
    "    weather_and_forecast = pd.DataFrame(wind_farm_data).iloc[-10:]\n",
    " \n",
    "  return weather_and_forecast.drop(columns=\"power\"), past_power_output[\"power\"]"
   ]
  },
  {
   "cell_type": "code",
   "execution_count": 2,
   "id": "bc5c4aa3-a4c4-4916-bbad-00d889494a46",
   "metadata": {},
   "outputs": [
    {
     "data": {
      "text/html": [
       "<div>\n",
       "<style scoped>\n",
       "    .dataframe tbody tr th:only-of-type {\n",
       "        vertical-align: middle;\n",
       "    }\n",
       "\n",
       "    .dataframe tbody tr th {\n",
       "        vertical-align: top;\n",
       "    }\n",
       "\n",
       "    .dataframe thead th {\n",
       "        text-align: right;\n",
       "    }\n",
       "</style>\n",
       "<table border=\"1\" class=\"dataframe\">\n",
       "  <thead>\n",
       "    <tr style=\"text-align: right;\">\n",
       "      <th></th>\n",
       "      <th>temperature_00</th>\n",
       "      <th>wind_direction_00</th>\n",
       "      <th>wind_speed_00</th>\n",
       "      <th>temperature_08</th>\n",
       "      <th>wind_direction_08</th>\n",
       "      <th>wind_speed_08</th>\n",
       "      <th>temperature_16</th>\n",
       "      <th>wind_direction_16</th>\n",
       "      <th>wind_speed_16</th>\n",
       "      <th>power</th>\n",
       "    </tr>\n",
       "  </thead>\n",
       "  <tbody>\n",
       "    <tr>\n",
       "      <th>2019-01-01</th>\n",
       "      <td>8.875944</td>\n",
       "      <td>97.246960</td>\n",
       "      <td>11.665322</td>\n",
       "      <td>11.955358</td>\n",
       "      <td>98.636955</td>\n",
       "      <td>12.240791</td>\n",
       "      <td>14.668171</td>\n",
       "      <td>112.411930</td>\n",
       "      <td>9.737414</td>\n",
       "      <td>8509.6200</td>\n",
       "    </tr>\n",
       "    <tr>\n",
       "      <th>2019-01-02</th>\n",
       "      <td>15.183593</td>\n",
       "      <td>150.793730</td>\n",
       "      <td>10.765375</td>\n",
       "      <td>11.806581</td>\n",
       "      <td>202.014570</td>\n",
       "      <td>5.050459</td>\n",
       "      <td>8.744499</td>\n",
       "      <td>299.835420</td>\n",
       "      <td>6.469718</td>\n",
       "      <td>3876.5240</td>\n",
       "    </tr>\n",
       "    <tr>\n",
       "      <th>2019-01-03</th>\n",
       "      <td>5.572408</td>\n",
       "      <td>278.278230</td>\n",
       "      <td>2.968834</td>\n",
       "      <td>8.377396</td>\n",
       "      <td>98.699100</td>\n",
       "      <td>7.120559</td>\n",
       "      <td>9.474814</td>\n",
       "      <td>200.089770</td>\n",
       "      <td>1.316572</td>\n",
       "      <td>1511.1980</td>\n",
       "    </tr>\n",
       "    <tr>\n",
       "      <th>2019-01-04</th>\n",
       "      <td>7.883471</td>\n",
       "      <td>83.243490</td>\n",
       "      <td>1.943103</td>\n",
       "      <td>10.387258</td>\n",
       "      <td>147.142290</td>\n",
       "      <td>2.183379</td>\n",
       "      <td>10.536873</td>\n",
       "      <td>318.377930</td>\n",
       "      <td>2.621120</td>\n",
       "      <td>256.9488</td>\n",
       "    </tr>\n",
       "    <tr>\n",
       "      <th>2019-01-05</th>\n",
       "      <td>8.764894</td>\n",
       "      <td>305.704250</td>\n",
       "      <td>5.041509</td>\n",
       "      <td>8.271966</td>\n",
       "      <td>291.500180</td>\n",
       "      <td>4.422956</td>\n",
       "      <td>7.382129</td>\n",
       "      <td>113.804474</td>\n",
       "      <td>4.078743</td>\n",
       "      <td>1014.6314</td>\n",
       "    </tr>\n",
       "    <tr>\n",
       "      <th>2019-01-06</th>\n",
       "      <td>5.438333</td>\n",
       "      <td>106.043320</td>\n",
       "      <td>5.787299</td>\n",
       "      <td>7.966585</td>\n",
       "      <td>139.703280</td>\n",
       "      <td>2.067099</td>\n",
       "      <td>6.946286</td>\n",
       "      <td>285.241820</td>\n",
       "      <td>2.774709</td>\n",
       "      <td>859.2375</td>\n",
       "    </tr>\n",
       "    <tr>\n",
       "      <th>2019-01-07</th>\n",
       "      <td>4.202758</td>\n",
       "      <td>207.217350</td>\n",
       "      <td>2.983574</td>\n",
       "      <td>6.853256</td>\n",
       "      <td>112.100510</td>\n",
       "      <td>7.334027</td>\n",
       "      <td>8.428836</td>\n",
       "      <td>112.508860</td>\n",
       "      <td>9.337582</td>\n",
       "      <td>3766.5713</td>\n",
       "    </tr>\n",
       "    <tr>\n",
       "      <th>2019-01-08</th>\n",
       "      <td>7.556848</td>\n",
       "      <td>106.699104</td>\n",
       "      <td>9.850532</td>\n",
       "      <td>9.393202</td>\n",
       "      <td>100.567024</td>\n",
       "      <td>10.189929</td>\n",
       "      <td>10.031277</td>\n",
       "      <td>99.752014</td>\n",
       "      <td>8.621423</td>\n",
       "      <td>6999.7627</td>\n",
       "    </tr>\n",
       "    <tr>\n",
       "      <th>2019-01-09</th>\n",
       "      <td>7.387094</td>\n",
       "      <td>98.269590</td>\n",
       "      <td>8.638614</td>\n",
       "      <td>9.839335</td>\n",
       "      <td>98.169464</td>\n",
       "      <td>8.310448</td>\n",
       "      <td>10.385242</td>\n",
       "      <td>102.197290</td>\n",
       "      <td>3.762180</td>\n",
       "      <td>3924.3154</td>\n",
       "    </tr>\n",
       "    <tr>\n",
       "      <th>2019-01-10</th>\n",
       "      <td>7.586321</td>\n",
       "      <td>213.040680</td>\n",
       "      <td>1.303631</td>\n",
       "      <td>9.785772</td>\n",
       "      <td>91.479225</td>\n",
       "      <td>3.234444</td>\n",
       "      <td>9.988096</td>\n",
       "      <td>110.400520</td>\n",
       "      <td>7.184761</td>\n",
       "      <td>1593.0924</td>\n",
       "    </tr>\n",
       "    <tr>\n",
       "      <th>2019-01-11</th>\n",
       "      <td>7.522231</td>\n",
       "      <td>104.121550</td>\n",
       "      <td>13.046313</td>\n",
       "      <td>9.079243</td>\n",
       "      <td>103.235245</td>\n",
       "      <td>12.452435</td>\n",
       "      <td>9.184695</td>\n",
       "      <td>103.892900</td>\n",
       "      <td>11.766598</td>\n",
       "      <td>9213.4940</td>\n",
       "    </tr>\n",
       "    <tr>\n",
       "      <th>2019-01-12</th>\n",
       "      <td>8.947841</td>\n",
       "      <td>101.375450</td>\n",
       "      <td>12.659378</td>\n",
       "      <td>9.297532</td>\n",
       "      <td>100.673325</td>\n",
       "      <td>12.551491</td>\n",
       "      <td>9.854117</td>\n",
       "      <td>101.644900</td>\n",
       "      <td>11.599463</td>\n",
       "      <td>9253.8700</td>\n",
       "    </tr>\n",
       "    <tr>\n",
       "      <th>2019-01-13</th>\n",
       "      <td>8.519487</td>\n",
       "      <td>103.676520</td>\n",
       "      <td>11.936866</td>\n",
       "      <td>9.780703</td>\n",
       "      <td>99.896835</td>\n",
       "      <td>10.113069</td>\n",
       "      <td>9.974476</td>\n",
       "      <td>100.562910</td>\n",
       "      <td>7.246278</td>\n",
       "      <td>6807.5520</td>\n",
       "    </tr>\n",
       "    <tr>\n",
       "      <th>2019-01-14</th>\n",
       "      <td>7.071896</td>\n",
       "      <td>218.349670</td>\n",
       "      <td>2.233954</td>\n",
       "      <td>8.035976</td>\n",
       "      <td>305.816600</td>\n",
       "      <td>4.567200</td>\n",
       "      <td>9.335110</td>\n",
       "      <td>279.216550</td>\n",
       "      <td>6.900381</td>\n",
       "      <td>1481.3854</td>\n",
       "    </tr>\n",
       "  </tbody>\n",
       "</table>\n",
       "</div>"
      ],
      "text/plain": [
       "            temperature_00  wind_direction_00  wind_speed_00  temperature_08  \\\n",
       "2019-01-01        8.875944          97.246960      11.665322       11.955358   \n",
       "2019-01-02       15.183593         150.793730      10.765375       11.806581   \n",
       "2019-01-03        5.572408         278.278230       2.968834        8.377396   \n",
       "2019-01-04        7.883471          83.243490       1.943103       10.387258   \n",
       "2019-01-05        8.764894         305.704250       5.041509        8.271966   \n",
       "2019-01-06        5.438333         106.043320       5.787299        7.966585   \n",
       "2019-01-07        4.202758         207.217350       2.983574        6.853256   \n",
       "2019-01-08        7.556848         106.699104       9.850532        9.393202   \n",
       "2019-01-09        7.387094          98.269590       8.638614        9.839335   \n",
       "2019-01-10        7.586321         213.040680       1.303631        9.785772   \n",
       "2019-01-11        7.522231         104.121550      13.046313        9.079243   \n",
       "2019-01-12        8.947841         101.375450      12.659378        9.297532   \n",
       "2019-01-13        8.519487         103.676520      11.936866        9.780703   \n",
       "2019-01-14        7.071896         218.349670       2.233954        8.035976   \n",
       "\n",
       "            wind_direction_08  wind_speed_08  temperature_16  \\\n",
       "2019-01-01          98.636955      12.240791       14.668171   \n",
       "2019-01-02         202.014570       5.050459        8.744499   \n",
       "2019-01-03          98.699100       7.120559        9.474814   \n",
       "2019-01-04         147.142290       2.183379       10.536873   \n",
       "2019-01-05         291.500180       4.422956        7.382129   \n",
       "2019-01-06         139.703280       2.067099        6.946286   \n",
       "2019-01-07         112.100510       7.334027        8.428836   \n",
       "2019-01-08         100.567024      10.189929       10.031277   \n",
       "2019-01-09          98.169464       8.310448       10.385242   \n",
       "2019-01-10          91.479225       3.234444        9.988096   \n",
       "2019-01-11         103.235245      12.452435        9.184695   \n",
       "2019-01-12         100.673325      12.551491        9.854117   \n",
       "2019-01-13          99.896835      10.113069        9.974476   \n",
       "2019-01-14         305.816600       4.567200        9.335110   \n",
       "\n",
       "            wind_direction_16  wind_speed_16      power  \n",
       "2019-01-01         112.411930       9.737414  8509.6200  \n",
       "2019-01-02         299.835420       6.469718  3876.5240  \n",
       "2019-01-03         200.089770       1.316572  1511.1980  \n",
       "2019-01-04         318.377930       2.621120   256.9488  \n",
       "2019-01-05         113.804474       4.078743  1014.6314  \n",
       "2019-01-06         285.241820       2.774709   859.2375  \n",
       "2019-01-07         112.508860       9.337582  3766.5713  \n",
       "2019-01-08          99.752014       8.621423  6999.7627  \n",
       "2019-01-09         102.197290       3.762180  3924.3154  \n",
       "2019-01-10         110.400520       7.184761  1593.0924  \n",
       "2019-01-11         103.892900      11.766598  9213.4940  \n",
       "2019-01-12         101.644900      11.599463  9253.8700  \n",
       "2019-01-13         100.562910       7.246278  6807.5520  \n",
       "2019-01-14         279.216550       6.900381  1481.3854  "
      ]
     },
     "execution_count": 2,
     "metadata": {},
     "output_type": "execute_result"
    }
   ],
   "source": [
    "# Display a sample of the data for reference.\n",
    "\n",
    "wind_farm_data[\"2019-01-01\":\"2019-01-14\"]"
   ]
  },
  {
   "cell_type": "markdown",
   "id": "aa36e013-d483-4a50-a595-4b5a0dd2308f",
   "metadata": {},
   "source": [
    "## Train a power forecasting model and track it with MLflow\n",
    "\n",
    "The following cells train a neural network to predict power output based on the weather features in the dataset. MLflow is used to track the model's hyperparameters, performance metrics, source code, and artifacts."
   ]
  },
  {
   "cell_type": "code",
   "execution_count": 3,
   "id": "69ec860e-9719-4551-85e3-1ecc83c2b71b",
   "metadata": {},
   "outputs": [
    {
     "name": "stderr",
     "output_type": "stream",
     "text": [
      "2023-09-20 10:33:11.932962: W tensorflow/stream_executor/platform/default/dso_loader.cc:64] Could not load dynamic library 'libcudart.so.11.0'; dlerror: libcudart.so.11.0: cannot open shared object file: No such file or directory\n",
      "2023-09-20 10:33:11.932994: I tensorflow/stream_executor/cuda/cudart_stub.cc:29] Ignore above cudart dlerror if you do not have a GPU set up on your machine.\n"
     ]
    }
   ],
   "source": [
    "# Define a power forecasting model using TensorFlow Keras.\n",
    "\n",
    "import tensorflow as tf\n",
    "from tensorflow.keras.layers import Dense\n",
    "from tensorflow.keras.models import Sequential\n",
    "\n",
    "\n",
    "def train_keras_model(X, y):\n",
    "  \n",
    "  model = Sequential()\n",
    "  model.add(Dense(100, input_shape=(X_train.shape[-1],), activation=\"relu\", name=\"hidden_layer\"))\n",
    "  model.add(Dense(1))\n",
    "  model.compile(loss=\"mse\", optimizer=\"adam\")\n",
    " \n",
    "  model.fit(X_train, y_train, epochs=100, batch_size=64, validation_split=.2)\n",
    "  return model\n",
    "\n"
   ]
  },
  {
   "cell_type": "code",
   "execution_count": 16,
   "id": "41d4cdc5-e7ad-43a5-b52e-7b009ac89b57",
   "metadata": {},
   "outputs": [
    {
     "name": "stderr",
     "output_type": "stream",
     "text": [
      "2023/09/20 10:53:36 WARNING mlflow.tensorflow: Unrecognized dataset type <class 'pandas.core.frame.DataFrame'>. Dataset logging skipped.\n"
     ]
    },
    {
     "name": "stdout",
     "output_type": "stream",
     "text": [
      "Epoch 1/100\n",
      " 1/19 [>.............................] - ETA: 3s - loss: 12511300.0000WARNING:tensorflow:Callback method `on_train_batch_end` is slow compared to the batch time (batch time: 0.0008s vs `on_train_batch_end` time: 0.0012s). Check your callbacks.\n",
      "19/19 [==============================] - 0s 8ms/step - loss: 10128366.0000 - val_loss: 7843958.0000\n",
      "Epoch 2/100\n",
      "19/19 [==============================] - 0s 2ms/step - loss: 9667461.0000 - val_loss: 7399838.0000\n",
      "Epoch 3/100\n",
      "19/19 [==============================] - 0s 2ms/step - loss: 9151164.0000 - val_loss: 6880089.0000\n",
      "Epoch 4/100\n",
      "19/19 [==============================] - 0s 2ms/step - loss: 8526705.0000 - val_loss: 6302561.5000\n",
      "Epoch 5/100\n",
      "19/19 [==============================] - 0s 2ms/step - loss: 7843390.0000 - val_loss: 5702880.5000\n",
      "Epoch 6/100\n",
      "19/19 [==============================] - 0s 2ms/step - loss: 7155458.0000 - val_loss: 5161957.0000\n",
      "Epoch 7/100\n",
      "19/19 [==============================] - 0s 2ms/step - loss: 6523151.5000 - val_loss: 4765026.0000\n",
      "Epoch 8/100\n",
      "19/19 [==============================] - 0s 2ms/step - loss: 6037456.0000 - val_loss: 4547219.0000\n",
      "Epoch 9/100\n",
      "19/19 [==============================] - 0s 3ms/step - loss: 5725814.0000 - val_loss: 4490135.0000\n",
      "Epoch 10/100\n",
      "19/19 [==============================] - 0s 2ms/step - loss: 5558364.5000 - val_loss: 4519063.0000\n",
      "Epoch 11/100\n",
      "19/19 [==============================] - 0s 2ms/step - loss: 5494300.0000 - val_loss: 4574735.5000\n",
      "Epoch 12/100\n",
      "19/19 [==============================] - 0s 2ms/step - loss: 5464809.0000 - val_loss: 4584062.0000\n",
      "Epoch 13/100\n",
      "19/19 [==============================] - 0s 2ms/step - loss: 5446501.5000 - val_loss: 4586208.5000\n",
      "Epoch 14/100\n",
      "19/19 [==============================] - 0s 2ms/step - loss: 5429932.5000 - val_loss: 4569388.5000\n",
      "Epoch 15/100\n",
      "19/19 [==============================] - 0s 2ms/step - loss: 5412885.0000 - val_loss: 4560622.5000\n",
      "Epoch 16/100\n",
      "19/19 [==============================] - 0s 3ms/step - loss: 5395060.0000 - val_loss: 4570440.5000\n",
      "Epoch 17/100\n",
      "19/19 [==============================] - 0s 2ms/step - loss: 5377071.5000 - val_loss: 4534039.5000\n",
      "Epoch 18/100\n",
      "19/19 [==============================] - 0s 2ms/step - loss: 5359763.5000 - val_loss: 4515541.5000\n",
      "Epoch 19/100\n",
      "19/19 [==============================] - 0s 2ms/step - loss: 5340478.5000 - val_loss: 4480722.0000\n",
      "Epoch 20/100\n",
      "19/19 [==============================] - 0s 2ms/step - loss: 5320799.0000 - val_loss: 4470929.0000\n",
      "Epoch 21/100\n",
      "19/19 [==============================] - 0s 2ms/step - loss: 5299082.5000 - val_loss: 4464164.0000\n",
      "Epoch 22/100\n",
      "19/19 [==============================] - 0s 3ms/step - loss: 5279137.0000 - val_loss: 4478868.5000\n",
      "Epoch 23/100\n",
      "19/19 [==============================] - 0s 2ms/step - loss: 5255074.5000 - val_loss: 4458109.5000\n",
      "Epoch 24/100\n",
      "19/19 [==============================] - 0s 2ms/step - loss: 5231944.0000 - val_loss: 4432230.5000\n",
      "Epoch 25/100\n",
      "19/19 [==============================] - 0s 2ms/step - loss: 5206486.5000 - val_loss: 4387664.5000\n",
      "Epoch 26/100\n",
      "19/19 [==============================] - 0s 2ms/step - loss: 5183093.0000 - val_loss: 4360408.0000\n",
      "Epoch 27/100\n",
      "19/19 [==============================] - 0s 4ms/step - loss: 5154026.0000 - val_loss: 4350543.5000\n",
      "Epoch 28/100\n",
      "19/19 [==============================] - 0s 2ms/step - loss: 5126528.0000 - val_loss: 4341173.5000\n",
      "Epoch 29/100\n",
      "19/19 [==============================] - 0s 2ms/step - loss: 5097437.5000 - val_loss: 4312937.5000\n",
      "Epoch 30/100\n",
      "19/19 [==============================] - 0s 2ms/step - loss: 5068784.0000 - val_loss: 4262853.5000\n",
      "Epoch 31/100\n",
      "19/19 [==============================] - 0s 2ms/step - loss: 5032149.5000 - val_loss: 4247931.0000\n",
      "Epoch 32/100\n",
      "19/19 [==============================] - 0s 2ms/step - loss: 4997417.0000 - val_loss: 4211418.0000\n",
      "Epoch 33/100\n",
      "19/19 [==============================] - 0s 3ms/step - loss: 4963506.0000 - val_loss: 4200504.5000\n",
      "Epoch 34/100\n",
      "19/19 [==============================] - 0s 2ms/step - loss: 4925878.5000 - val_loss: 4145678.7500\n",
      "Epoch 35/100\n",
      "19/19 [==============================] - 0s 2ms/step - loss: 4886373.0000 - val_loss: 4136639.0000\n",
      "Epoch 36/100\n",
      "19/19 [==============================] - 0s 2ms/step - loss: 4847361.5000 - val_loss: 4112953.7500\n",
      "Epoch 37/100\n",
      "19/19 [==============================] - 0s 2ms/step - loss: 4804889.0000 - val_loss: 4047833.0000\n",
      "Epoch 38/100\n",
      "19/19 [==============================] - 0s 4ms/step - loss: 4763850.0000 - val_loss: 4034986.0000\n",
      "Epoch 39/100\n",
      "19/19 [==============================] - 0s 2ms/step - loss: 4719517.5000 - val_loss: 3979824.0000\n",
      "Epoch 40/100\n",
      "19/19 [==============================] - 0s 2ms/step - loss: 4678250.0000 - val_loss: 3942396.5000\n",
      "Epoch 41/100\n",
      "19/19 [==============================] - 0s 2ms/step - loss: 4633085.5000 - val_loss: 3947138.2500\n",
      "Epoch 42/100\n",
      "19/19 [==============================] - 0s 2ms/step - loss: 4586970.5000 - val_loss: 3877204.7500\n",
      "Epoch 43/100\n",
      "19/19 [==============================] - 0s 2ms/step - loss: 4540312.5000 - val_loss: 3840572.2500\n",
      "Epoch 44/100\n",
      "19/19 [==============================] - 0s 3ms/step - loss: 4489524.5000 - val_loss: 3789413.2500\n",
      "Epoch 45/100\n",
      "19/19 [==============================] - 0s 2ms/step - loss: 4437807.5000 - val_loss: 3749495.7500\n",
      "Epoch 46/100\n",
      "19/19 [==============================] - 0s 2ms/step - loss: 4390714.0000 - val_loss: 3763266.7500\n",
      "Epoch 47/100\n",
      "19/19 [==============================] - 0s 2ms/step - loss: 4334275.5000 - val_loss: 3668454.7500\n",
      "Epoch 48/100\n",
      "19/19 [==============================] - 0s 2ms/step - loss: 4287587.5000 - val_loss: 3619559.0000\n",
      "Epoch 49/100\n",
      "19/19 [==============================] - 0s 2ms/step - loss: 4228954.5000 - val_loss: 3575263.0000\n",
      "Epoch 50/100\n",
      "19/19 [==============================] - 0s 4ms/step - loss: 4180569.0000 - val_loss: 3558371.5000\n",
      "Epoch 51/100\n",
      "19/19 [==============================] - 0s 2ms/step - loss: 4119321.0000 - val_loss: 3484047.7500\n",
      "Epoch 52/100\n",
      "19/19 [==============================] - 0s 2ms/step - loss: 4064170.0000 - val_loss: 3477411.5000\n",
      "Epoch 53/100\n",
      "19/19 [==============================] - 0s 2ms/step - loss: 4005489.5000 - val_loss: 3392789.0000\n",
      "Epoch 54/100\n",
      "19/19 [==============================] - 0s 2ms/step - loss: 3951787.5000 - val_loss: 3361205.2500\n",
      "Epoch 55/100\n",
      "19/19 [==============================] - 0s 2ms/step - loss: 3889341.7500 - val_loss: 3293191.7500\n",
      "Epoch 56/100\n",
      "19/19 [==============================] - 0s 3ms/step - loss: 3833601.0000 - val_loss: 3251185.2500\n",
      "Epoch 57/100\n",
      "19/19 [==============================] - 0s 2ms/step - loss: 3768249.0000 - val_loss: 3176746.5000\n",
      "Epoch 58/100\n",
      "19/19 [==============================] - 0s 2ms/step - loss: 3705382.5000 - val_loss: 3152711.2500\n",
      "Epoch 59/100\n",
      "19/19 [==============================] - 0s 2ms/step - loss: 3644776.0000 - val_loss: 3120142.7500\n",
      "Epoch 60/100\n",
      "19/19 [==============================] - 0s 2ms/step - loss: 3574143.2500 - val_loss: 3026616.0000\n",
      "Epoch 61/100\n",
      "19/19 [==============================] - 0s 3ms/step - loss: 3507737.7500 - val_loss: 2954410.5000\n",
      "Epoch 62/100\n",
      "19/19 [==============================] - 0s 2ms/step - loss: 3440799.0000 - val_loss: 2914303.5000\n",
      "Epoch 63/100\n",
      "19/19 [==============================] - 0s 2ms/step - loss: 3378094.5000 - val_loss: 2866206.7500\n",
      "Epoch 64/100\n",
      "19/19 [==============================] - 0s 2ms/step - loss: 3307003.0000 - val_loss: 2789610.5000\n",
      "Epoch 65/100\n",
      "19/19 [==============================] - 0s 2ms/step - loss: 3243025.7500 - val_loss: 2731587.2500\n",
      "Epoch 66/100\n",
      "19/19 [==============================] - 0s 2ms/step - loss: 3170160.2500 - val_loss: 2684746.5000\n",
      "Epoch 67/100\n",
      "19/19 [==============================] - 0s 4ms/step - loss: 3101056.5000 - val_loss: 2631183.7500\n",
      "Epoch 68/100\n",
      "19/19 [==============================] - 0s 2ms/step - loss: 3030877.2500 - val_loss: 2540007.5000\n",
      "Epoch 69/100\n",
      "19/19 [==============================] - 0s 2ms/step - loss: 2971369.7500 - val_loss: 2492739.7500\n",
      "Epoch 70/100\n",
      "19/19 [==============================] - 0s 2ms/step - loss: 2889848.7500 - val_loss: 2436828.2500\n",
      "Epoch 71/100\n",
      "19/19 [==============================] - 0s 2ms/step - loss: 2822584.0000 - val_loss: 2364176.2500\n",
      "Epoch 72/100\n",
      "19/19 [==============================] - 0s 2ms/step - loss: 2755983.0000 - val_loss: 2328589.2500\n",
      "Epoch 73/100\n",
      "19/19 [==============================] - 0s 2ms/step - loss: 2684690.7500 - val_loss: 2244202.2500\n",
      "Epoch 74/100\n",
      "19/19 [==============================] - 0s 3ms/step - loss: 2619137.5000 - val_loss: 2235874.0000\n",
      "Epoch 75/100\n",
      "19/19 [==============================] - 0s 2ms/step - loss: 2553788.0000 - val_loss: 2147246.7500\n",
      "Epoch 76/100\n",
      "19/19 [==============================] - 0s 2ms/step - loss: 2477029.7500 - val_loss: 2072125.1250\n",
      "Epoch 77/100\n",
      "19/19 [==============================] - 0s 2ms/step - loss: 2412043.5000 - val_loss: 1997606.6250\n",
      "Epoch 78/100\n",
      "19/19 [==============================] - 0s 2ms/step - loss: 2343214.7500 - val_loss: 1967371.7500\n",
      "Epoch 79/100\n",
      "19/19 [==============================] - 0s 2ms/step - loss: 2274638.0000 - val_loss: 1893829.5000\n",
      "Epoch 80/100\n",
      "19/19 [==============================] - 0s 2ms/step - loss: 2207311.0000 - val_loss: 1848665.1250\n",
      "Epoch 81/100\n",
      "19/19 [==============================] - 0s 3ms/step - loss: 2138403.0000 - val_loss: 1764780.7500\n",
      "Epoch 82/100\n",
      "19/19 [==============================] - 0s 2ms/step - loss: 2076292.8750 - val_loss: 1729006.0000\n",
      "Epoch 83/100\n",
      "19/19 [==============================] - 0s 2ms/step - loss: 2010354.2500 - val_loss: 1666238.5000\n",
      "Epoch 84/100\n",
      "19/19 [==============================] - 0s 2ms/step - loss: 1946126.8750 - val_loss: 1628118.0000\n",
      "Epoch 85/100\n",
      "19/19 [==============================] - 0s 2ms/step - loss: 1886956.2500 - val_loss: 1541926.5000\n",
      "Epoch 86/100\n",
      "19/19 [==============================] - 0s 3ms/step - loss: 1817269.5000 - val_loss: 1529556.3750\n",
      "Epoch 87/100\n",
      "19/19 [==============================] - 0s 2ms/step - loss: 1773944.1250 - val_loss: 1460275.1250\n",
      "Epoch 88/100\n",
      "19/19 [==============================] - 0s 2ms/step - loss: 1702016.3750 - val_loss: 1373392.1250\n",
      "Epoch 89/100\n",
      "19/19 [==============================] - 0s 2ms/step - loss: 1641392.8750 - val_loss: 1352250.3750\n",
      "Epoch 90/100\n",
      "19/19 [==============================] - 0s 2ms/step - loss: 1580032.3750 - val_loss: 1273802.8750\n",
      "Epoch 91/100\n",
      "19/19 [==============================] - 0s 3ms/step - loss: 1525167.3750 - val_loss: 1249012.0000\n",
      "Epoch 92/100\n",
      "19/19 [==============================] - 0s 2ms/step - loss: 1468649.2500 - val_loss: 1181271.6250\n",
      "Epoch 93/100\n",
      "19/19 [==============================] - 0s 2ms/step - loss: 1414559.0000 - val_loss: 1153413.6250\n",
      "Epoch 94/100\n",
      "19/19 [==============================] - 0s 2ms/step - loss: 1375235.1250 - val_loss: 1075443.2500\n",
      "Epoch 95/100\n",
      "19/19 [==============================] - 0s 2ms/step - loss: 1314325.0000 - val_loss: 1067690.3750\n",
      "Epoch 96/100\n",
      "19/19 [==============================] - 0s 3ms/step - loss: 1259249.3750 - val_loss: 995851.5625\n",
      "Epoch 97/100\n",
      "19/19 [==============================] - 0s 2ms/step - loss: 1210178.1250 - val_loss: 960291.0625\n",
      "Epoch 98/100\n",
      "19/19 [==============================] - 0s 2ms/step - loss: 1172622.6250 - val_loss: 949117.8125\n",
      "Epoch 99/100\n",
      "19/19 [==============================] - 0s 2ms/step - loss: 1121856.1250 - val_loss: 879671.1250\n",
      "Epoch 100/100\n",
      "19/19 [==============================] - 0s 2ms/step - loss: 1071996.8750 - val_loss: 850150.1250\n"
     ]
    },
    {
     "name": "stderr",
     "output_type": "stream",
     "text": [
      "2023/09/20 10:53:40 WARNING mlflow.tensorflow: Failed to infer model signature: could not sample data to infer model signature: Cannot log input example or model signature for input with type <class 'pandas.core.frame.DataFrame'>. TensorFlow Keras autologging can only log input examples and model signatures for the following input types: numpy.ndarray, dict[string -> numpy.ndarray], tensorflow.keras.utils.Sequence, and tensorflow.data.Dataset (TensorFlow >= 2.1.0 required)\n",
      "2023/09/20 10:53:40 WARNING mlflow.tensorflow: You are saving a TensorFlow Core model or Keras model without a signature. Inference with mlflow.pyfunc.spark_udf() will not work unless the model's pyfunc representation accepts pandas DataFrames as inference inputs.\n"
     ]
    },
    {
     "name": "stdout",
     "output_type": "stream",
     "text": [
      "INFO:tensorflow:Assets written to: /tmp/tmpdq_p8zno/model/data/model/assets\n"
     ]
    }
   ],
   "source": [
    "# Train the model and use MLflow to track its parameters, metrics, artifacts, and source code.\n",
    "\n",
    "import mlflow\n",
    "import mlflow.keras\n",
    "import mlflow.tensorflow\n",
    "import os\n",
    "\n",
    "os.environ[\"AWS_ACCESS_KEY_ID\"] = \"minio\"\n",
    "os.environ[\"AWS_SECRET_ACCESS_KEY\"] = \"minio123\"\n",
    "os.environ[\"MLFLOW_S3_ENDPOINT_URL\"] = f\"http://minio-service.kubeflow.svc.cluster.local:9000\" \n",
    "\n",
    "X_train, y_train = get_training_data()\n",
    "\n",
    "mlflow.set_tracking_uri(\"http://mlflow.mlflow.svc.cluster.local:5000/\")\n",
    "mlflow.set_experiment(\"power-forecasting-model\")\n",
    "experiment = mlflow.get_experiment_by_name(\"power-forecasting-model\")\n",
    "\n",
    "with mlflow.start_run(experiment_id=experiment.experiment_id):\n",
    "  # Automatically capture the model's parameters, metrics, artifacts,\n",
    "  # and source code with the `autolog()` function\n",
    "  mlflow.tensorflow.autolog()\n",
    "  train_keras_model(X_train, y_train)\n",
    "  run_id = mlflow.active_run().info.run_id"
   ]
  },
  {
   "cell_type": "markdown",
   "id": "a2dc1dc7-c631-41a4-9a2a-6bfc8f107a65",
   "metadata": {},
   "source": [
    "## Register the model with the MLflow Model Registry API\n",
    "Now that a forecasting model has been trained and tracked with MLflow, the next step is to register it with the MLflow Model Registry. You can register and manage models using the MLflow UI or the MLflow API .\n",
    "\n",
    "The following cells use the API to register your forecasting model, add rich model descriptions, and perform stage transitions. See the documentation for the UI workflow."
   ]
  },
  {
   "cell_type": "code",
   "execution_count": 18,
   "id": "ac475cc1-e340-42c7-a2b2-6e86d7e97321",
   "metadata": {},
   "outputs": [
    {
     "name": "stdout",
     "output_type": "stream",
     "text": [
      "54290f7e76764e72a436dc17990f24fa\n"
     ]
    }
   ],
   "source": [
    "model_name = \"power-forecasting-model\" # Replace this with the name of your registered model, if necessary.\n",
    "print(run_id)"
   ]
  },
  {
   "cell_type": "markdown",
   "id": "82f14b21-efb4-42f4-ab90-8668a1a8f7ac",
   "metadata": {},
   "source": [
    "### Create a new registered model using the API\n",
    "The following cells use the mlflow.register_model() function to create a new registered model whose name begins with the string power-forecasting-model. This also creates a new model version (for example, Version 1 of power-forecasting-model)."
   ]
  },
  {
   "cell_type": "code",
   "execution_count": 19,
   "id": "c93d2c04-cb05-4ed4-9ae6-6f8701f1fca3",
   "metadata": {},
   "outputs": [
    {
     "name": "stderr",
     "output_type": "stream",
     "text": [
      "Registered model 'power-forecasting-model' already exists. Creating a new version of this model...\n",
      "2023/09/20 10:58:05 INFO mlflow.tracking._model_registry.client: Waiting up to 300 seconds for model version to finish creation. Model name: power-forecasting-model, version 5\n",
      "Created version '5' of model 'power-forecasting-model'.\n"
     ]
    }
   ],
   "source": [
    "import mlflow\n",
    "mlflow.set_tracking_uri(\"http://mlflow.mlflow.svc.cluster.local:5000\")\n",
    "mlflow.set_experiment(\"power-forecasting-model\")\n",
    "experiment = mlflow.get_experiment_by_name(\"power-forecasting-model\")\n",
    "# The default path where the MLflow autologging function stores the model\n",
    "artifact_path = \"model\"\n",
    "model_uri = \"runs:/{run_id}/{artifact_path}\".format(run_id=run_id, artifact_path=artifact_path)\n",
    " \n",
    "model_details = mlflow.register_model(model_uri=model_uri, name=model_name)\n"
   ]
  },
  {
   "cell_type": "markdown",
   "id": "1f418b9a-2a46-49d1-b840-f67a8b949dab",
   "metadata": {},
   "source": [
    "After creating a model version, it may take a short period of time to become ready. Certain operations, such as model stage transitions, require the model to be in the READY state. Other operations, such as adding a description or fetching model details, can be performed before the model version is ready (for example, while it is in the PENDING_REGISTRATION state).\n",
    "\n",
    "The following cell uses the MlflowClient.get_model_version() function to wait until the model is ready."
   ]
  },
  {
   "cell_type": "code",
   "execution_count": 20,
   "id": "a59b2e0f-f7c6-4850-a66d-830ca9eb2f5f",
   "metadata": {},
   "outputs": [
    {
     "name": "stdout",
     "output_type": "stream",
     "text": [
      "Model status: READY\n"
     ]
    }
   ],
   "source": [
    "import time\n",
    "from mlflow.tracking.client import MlflowClient\n",
    "from mlflow.entities.model_registry.model_version_status import ModelVersionStatus\n",
    "\n",
    "mlflow.set_tracking_uri(\"http://mlflow.mlflow.svc.cluster.local:5000\")\n",
    "\n",
    "def wait_until_ready(model_name, model_version):\n",
    "  client = MlflowClient()\n",
    "  for _ in range(10):\n",
    "    model_version_details = client.get_model_version(\n",
    "      name=model_name,\n",
    "      version=model_version,\n",
    "    )\n",
    "    status = ModelVersionStatus.from_string(model_version_details.status)\n",
    "    print(\"Model status: %s\" % ModelVersionStatus.to_string(status))\n",
    "    if status == ModelVersionStatus.READY:\n",
    "      break\n",
    "    time.sleep(1)\n",
    "  \n",
    "wait_until_ready(model_details.name, model_details.version)"
   ]
  },
  {
   "cell_type": "markdown",
   "id": "ac62fa52-416f-47f1-8f2e-6cee8c2b158a",
   "metadata": {},
   "source": [
    "### Add model descriptions\n",
    "You can add descriptions to registered models as well as model versions:\n",
    "- Model version descriptions are useful for detailing the unique attributes of a particular model version (such as the methodology and algorithm used to develop the model).\n",
    "- Registered model descriptions are useful for recording information that applies to multiple model versions (such as a general overview of the modeling problem and dataset)."
   ]
  },
  {
   "cell_type": "code",
   "execution_count": 21,
   "id": "03bca072-2724-4039-851f-5fc9c16c3aab",
   "metadata": {},
   "outputs": [
    {
     "data": {
      "text/plain": [
       "<RegisteredModel: aliases={}, creation_timestamp=1694902964930, description=('This model forecasts the power output of a wind farm based on weather data. '\n",
       " 'The weather data consists of three features: wind speed, wind direction, and '\n",
       " 'air temperature.'), last_updated_timestamp=1695207499036, latest_versions=[<ModelVersion: aliases=[], creation_timestamp=1695206038434, current_stage='Production', description=('This model version was built using TensorFlow Keras. It is a feed-forward '\n",
       " 'neural network with one hidden layer.'), last_updated_timestamp=1695206082041, name='power-forecasting-model', run_id='a011f1ce388a48dba366e403f0ffa36c', run_link='', source='s3://mlpipeline/2/a011f1ce388a48dba366e403f0ffa36c/artifacts/model', status='READY', status_message='', tags={}, user_id='', version='3'>,\n",
       " <ModelVersion: aliases=[], creation_timestamp=1695207484872, current_stage='None', description='', last_updated_timestamp=1695207484872, name='power-forecasting-model', run_id='54290f7e76764e72a436dc17990f24fa', run_link='', source='s3://mlpipeline/2/54290f7e76764e72a436dc17990f24fa/artifacts/model', status='READY', status_message='', tags={}, user_id='', version='5'>], name='power-forecasting-model', tags={}>"
      ]
     },
     "execution_count": 21,
     "metadata": {},
     "output_type": "execute_result"
    }
   ],
   "source": [
    "# Add a high-level description to the registered model, including the machine learning problem and dataset.\n",
    "\n",
    "from mlflow.tracking.client import MlflowClient\n",
    "\n",
    "mlflow.set_tracking_uri(\"http://mlflow.mlflow.svc.cluster.local:5000\")\n",
    "client = MlflowClient()\n",
    "client.update_registered_model(\n",
    "  name=model_details.name,\n",
    "  description=\"This model forecasts the power output of a wind farm based on weather data. The weather data consists of three features: wind speed, wind direction, and air temperature.\"\n",
    ")"
   ]
  },
  {
   "cell_type": "code",
   "execution_count": 22,
   "id": "d10ea5bf-9961-4f13-8646-bddc1a890f69",
   "metadata": {},
   "outputs": [
    {
     "data": {
      "text/plain": [
       "<ModelVersion: aliases=[], creation_timestamp=1695207484872, current_stage='None', description=('This model version was built using TensorFlow Keras. It is a feed-forward '\n",
       " 'neural network with one hidden layer.'), last_updated_timestamp=1695207500271, name='power-forecasting-model', run_id='54290f7e76764e72a436dc17990f24fa', run_link='', source='s3://mlpipeline/2/54290f7e76764e72a436dc17990f24fa/artifacts/model', status='READY', status_message='', tags={}, user_id='', version='5'>"
      ]
     },
     "execution_count": 22,
     "metadata": {},
     "output_type": "execute_result"
    }
   ],
   "source": [
    "# Add a model version description with information about the model architecture and machine learning framework.\n",
    "mlflow.set_tracking_uri(\"http://mlflow.mlflow.svc.cluster.local:5000\")\n",
    "client.update_model_version(\n",
    "  name=model_details.name,\n",
    "  version=model_details.version,\n",
    "  description=\"This model version was built using TensorFlow Keras. It is a feed-forward neural network with one hidden layer.\"\n",
    ")"
   ]
  },
  {
   "cell_type": "markdown",
   "id": "370c7071-f05b-481e-a396-b048f612e452",
   "metadata": {},
   "source": [
    "## Perform a model stage transition\n",
    "The MLflow Model Registry defines several model stages: None, Staging, Production, and Archived. Each stage has a unique meaning. For example, Staging is meant for model testing, while Production is for models that have completed the testing or review processes and have been deployed to applications.\n",
    "\n",
    "Users with appropriate permissions can transition models between stages. In private preview, any user can transition a model to any stage. In the near future, administrators in your organization will be able to control these permissions on a per-user and per-model basis.\n",
    "\n",
    "If you have permission to transition a model to a particular stage, you can make the transition directly by using the MlflowClient.update_model_version() function. If you do not have permission, you can request a stage transition using the REST API; for example:\n",
    "    \n",
    "```bash\n",
    "%sh curl -i -X POST -H \"X-Databricks-Org-Id: <YOUR_ORG_ID>\" -H \"Authorization: Bearer <YOUR_ACCESS_TOKEN>\" https://<YOUR_DATABRICKS_WORKSPACE_URL>/api/2.0/preview/mlflow/transition-requests/create -d '{\"comment\": \"Please move this model into production!\", \"model_version\": {\"version\": 1, \"registered_model\": {\"name\": \"power-forecasting-model\"}}, \"stage\": \"Production\"}'\n",
    "```"
   ]
  },
  {
   "cell_type": "code",
   "execution_count": 23,
   "id": "3a32784e-10b1-46bf-abea-57d716bb7cb9",
   "metadata": {},
   "outputs": [
    {
     "data": {
      "text/plain": [
       "<ModelVersion: aliases=[], creation_timestamp=1695207484872, current_stage='Production', description=('This model version was built using TensorFlow Keras. It is a feed-forward '\n",
       " 'neural network with one hidden layer.'), last_updated_timestamp=1695207503240, name='power-forecasting-model', run_id='54290f7e76764e72a436dc17990f24fa', run_link='', source='s3://mlpipeline/2/54290f7e76764e72a436dc17990f24fa/artifacts/model', status='READY', status_message='', tags={}, user_id='', version='5'>"
      ]
     },
     "execution_count": 23,
     "metadata": {},
     "output_type": "execute_result"
    }
   ],
   "source": [
    "# Now that you've learned about stage transitions, transition the model to the Production stage.\n",
    "mlflow.set_tracking_uri(\"http://mlflow.mlflow.svc.cluster.local:5000\")\n",
    "client.transition_model_version_stage(\n",
    "  name=model_details.name,\n",
    "  version=model_details.version,\n",
    "  stage='Production',\n",
    ")"
   ]
  },
  {
   "cell_type": "code",
   "execution_count": 24,
   "id": "37c93e8a-909c-439e-b8d9-26cd367f7a99",
   "metadata": {},
   "outputs": [
    {
     "name": "stdout",
     "output_type": "stream",
     "text": [
      "The current model stage is: 'Production'\n"
     ]
    }
   ],
   "source": [
    "# Use the MlflowClient.get_model_version() function to fetch the model's current stage.\n",
    "mlflow.set_tracking_uri(\"http://mlflow.mlflow.svc.cluster.local:5000\")\n",
    "model_version_details = client.get_model_version(\n",
    "  name=model_details.name,\n",
    "  version=model_details.version,\n",
    ")\n",
    "print(\"The current model stage is: '{stage}'\".format(stage=model_version_details.current_stage))\n"
   ]
  },
  {
   "cell_type": "markdown",
   "id": "7a02669d-d172-4bba-aad3-bc0c465f2ed9",
   "metadata": {},
   "source": [
    "The MLflow Model Registry allows multiple model versions to share the same stage. When referencing a model by stage, the Model Registry will use the latest model version (the model version with the largest version ID). The MlflowClient.get_latest_versions() function fetches the latest model version for a given stage or set of stages. The following cell uses this function to print the latest version of the power forecasting model that is in the Production stage."
   ]
  },
  {
   "cell_type": "code",
   "execution_count": 25,
   "id": "0b1057c5-0fd3-441c-bc05-4c4fcbafc035",
   "metadata": {},
   "outputs": [
    {
     "name": "stdout",
     "output_type": "stream",
     "text": [
      "The latest production version of the model 'power-forecasting-model' is '5'.\n"
     ]
    }
   ],
   "source": [
    "mlflow.set_tracking_uri(\"http://mlflow.mlflow.svc.cluster.local:5000\")\n",
    "latest_version_info = client.get_latest_versions(model_name, stages=[\"Production\"])\n",
    "latest_production_version = latest_version_info[0].version\n",
    "print(\"The latest production version of the model '%s' is '%s'.\" % (model_name, latest_production_version))"
   ]
  },
  {
   "cell_type": "markdown",
   "id": "426dec67-4bef-4c71-91d9-6c4fc47dc635",
   "metadata": {},
   "source": [
    "## Integrate the model with the forecasting application\n",
    "Now that you have trained and registered a power forecasting model with the MLflow Model Registry, the next step is to integrate it with an application. This application fetches a weather forecast for the wind farm over the next five days and uses the model to produce power forecasts. For example purposes, the application consists of a simple forecast_power() function (defined below) that is executed within this notebook. In practice, you may want to execute this function as a recurring batch inference job using the Databricks Jobs service.\n",
    "\n",
    "The following section demonstrates how to load model versions from the MLflow Model Registry for use in applications. The Forecast power output with the production model section uses the Production model to forecast power output for the next five days."
   ]
  },
  {
   "cell_type": "markdown",
   "id": "aee573e3-2af5-4be8-94f8-24502e9ddc72",
   "metadata": {},
   "source": [
    "### Load versions of the registered model\n",
    "The MLflow Models component defines functions for loading models from several machine learning frameworks. For example, mlflow.tensorflow.load_model() is used to load Tensorflow Keras models that were saved in MLflow format, and mlflow.sklearn.load_model() is used to load scikit-learn models that were saved in MLflow format.\n",
    "\n",
    "These functions can load models from the MLflow Model Registry.\n",
    "\n",
    "You can load a model by specifying its name (for example, power-forecast-model) and version number (in this case, 1). The following cell uses the mlflow.pyfunc.load_model() API to load Version 1 of the registered power forecasting model as a generic Python function."
   ]
  },
  {
   "cell_type": "code",
   "execution_count": 28,
   "id": "4880bfa0-9032-460e-80ee-fcd15b743e8b",
   "metadata": {},
   "outputs": [
    {
     "name": "stdout",
     "output_type": "stream",
     "text": [
      "Loading registered model version from URI: 'models:/power-forecasting-model/latest'\n"
     ]
    }
   ],
   "source": [
    "import mlflow.pyfunc\n",
    "mlflow.set_tracking_uri(\"http://mlflow.mlflow.svc.cluster.local:5000\")\n",
    "model_version_uri = \"models:/{model_name}/latest\".format(model_name=model_name)\n",
    " \n",
    "print(\"Loading registered model version from URI: '{model_uri}'\".format(model_uri=model_version_uri))\n",
    "model_version_1 = mlflow.pyfunc.load_model(model_version_uri)"
   ]
  },
  {
   "cell_type": "code",
   "execution_count": 29,
   "id": "b49f9e57-ee69-4c0f-a460-310e4b60d3d9",
   "metadata": {},
   "outputs": [
    {
     "name": "stdout",
     "output_type": "stream",
     "text": [
      "Loading registered model version from URI: 'models:/power-forecasting-model/production'\n"
     ]
    }
   ],
   "source": [
    "# You can also load a specific model stage. The following cell loads the Production stage of the power forecasting model.\n",
    "\n",
    "model_production_uri = \"models:/{model_name}/production\".format(model_name=model_name)\n",
    " \n",
    "print(\"Loading registered model version from URI: '{model_uri}'\".format(model_uri=model_production_uri))\n",
    "model_production = mlflow.pyfunc.load_model(model_production_uri)"
   ]
  },
  {
   "cell_type": "markdown",
   "id": "12e3d8ee-1ecc-4f4b-bab6-3dd5e540eac4",
   "metadata": {},
   "source": [
    "### Forecast power output with the production model\n",
    "In this section, the production model is used to evaluate weather forecast data for the wind farm. The forecast_power() application loads the latest version of the forecasting model from the specified stage and uses it to forecast power production over the next five days."
   ]
  },
  {
   "cell_type": "code",
   "execution_count": 30,
   "id": "79eead80-e04b-4e41-ad16-debc21c118fb",
   "metadata": {},
   "outputs": [
    {
     "name": "stdout",
     "output_type": "stream",
     "text": [
      "1/1 [==============================] - 0s 66ms/step\n",
      "                      0\n",
      "2020-12-22  1922.463867\n",
      "2020-12-23  2409.332520\n",
      "2020-12-24  3562.672363\n",
      "2020-12-25  4642.556641\n",
      "2020-12-26  4371.518066\n",
      "2020-12-27  2748.984375\n",
      "2020-12-28  3908.730225\n",
      "2020-12-29  5431.390137\n",
      "2020-12-30  3193.470215\n",
      "2020-12-31  2196.693604\n"
     ]
    },
    {
     "data": {
      "image/png": "[encoded data removed]",
      "text/plain": [
       "<Figure size 1100x700 with 1 Axes>"
      ]
     },
     "metadata": {},
     "output_type": "display_data"
    },
    {
     "data": {
      "text/plain": [
       "None"
      ]
     },
     "metadata": {},
     "output_type": "display_data"
    }
   ],
   "source": [
    "def plot(model_name, model_stage, model_version, power_predictions, past_power_output):\n",
    "  import pandas as pd\n",
    "  import matplotlib.dates as mdates\n",
    "  from matplotlib import pyplot as plt\n",
    "  index = power_predictions.index\n",
    "  fig = plt.figure(figsize=(11, 7))\n",
    "  ax = fig.add_subplot(111)\n",
    "  ax.set_xlabel(\"Date\", size=20, labelpad=20)\n",
    "  ax.set_ylabel(\"Power\\noutput\\n(MW)\", size=20, labelpad=60, rotation=0)\n",
    "  ax.tick_params(axis='both', which='major', labelsize=17)\n",
    "  ax.xaxis.set_major_formatter(mdates.DateFormatter('%m/%d'))\n",
    "  ax.plot(index[:len(past_power_output)], past_power_output, label=\"True\", color=\"red\", alpha=0.5, linewidth=4)\n",
    "  ax.plot(index, power_predictions.squeeze(), \"--\", label=\"Predicted by '%s'\\nin stage '%s' (Version %d)\" % (model_name, model_stage, model_version), color=\"blue\", linewidth=3)\n",
    "  ax.set_ylim(ymin=0, ymax=max(3500, int(max(power_predictions.values) * 1.3)))\n",
    "  ax.legend(fontsize=14)\n",
    "  plt.title(\"Wind farm power output and projections\", size=24, pad=20)\n",
    "  plt.tight_layout()\n",
    "  display(plt.show())\n",
    "\n",
    "def forecast_power(model_name, model_stage):\n",
    "  from mlflow.tracking.client import MlflowClient\n",
    "  client = MlflowClient()\n",
    "  model_version = client.get_latest_versions(model_name, stages=[model_stage])[0].version\n",
    "  model_uri = \"models:/{model_name}/{model_stage}\".format(model_name=model_name, model_stage=model_stage)\n",
    "  model = mlflow.pyfunc.load_model(model_uri)\n",
    "  weather_data, past_power_output = get_weather_and_forecast()\n",
    "  power_predictions = pd.DataFrame(model.predict(weather_data))\n",
    "  power_predictions.index = pd.to_datetime(weather_data.index)\n",
    "  print(power_predictions)\n",
    "  plot(model_name, model_stage, int(model_version), power_predictions, past_power_output)\n",
    "    \n",
    "forecast_power(model_name, \"Production\")"
   ]
  },
  {
   "cell_type": "markdown",
   "id": "223e7039-47e4-4e22-83e6-3a35215962d3",
   "metadata": {},
   "source": [
    "### Create and deploy a new model version\n",
    "The MLflow Model Registry enables you to create multiple model versions corresponding to a single registered model. By performing stage transitions, you can seamlessly integrate new model versions into your staging or production environments. Model versions can be trained in different machine learning frameworks (such as scikit-learn and tensorflow); MLflow's python_function provides a consistent inference API across machine learning frameworks, ensuring that the same application code continues to work when a new model version is introduced.\n",
    "\n",
    "The following sections create a new version of the power forecasting model using scikit-learn, perform model testing in Staging, and update the production application by transitioning the new model version to Production."
   ]
  },
  {
   "cell_type": "code",
   "execution_count": 31,
   "id": "8ac4117e-740c-443b-99ba-bcb44d7ba2cf",
   "metadata": {},
   "outputs": [
    {
     "name": "stdout",
     "output_type": "stream",
     "text": [
      "Validation MSE: 44058\n"
     ]
    },
    {
     "name": "stderr",
     "output_type": "stream",
     "text": [
      "Registered model 'power-forecasting-model' already exists. Creating a new version of this model...\n",
      "2023/09/20 10:59:24 INFO mlflow.tracking._model_registry.client: Waiting up to 300 seconds for model version to finish creation. Model name: power-forecasting-model, version 6\n",
      "Created version '6' of model 'power-forecasting-model'.\n"
     ]
    }
   ],
   "source": [
    "import mlflow.sklearn\n",
    "from sklearn.ensemble import RandomForestRegressor\n",
    "from sklearn.metrics import mean_squared_error\n",
    "\n",
    "mlflow.set_tracking_uri(\"http://mlflow.mlflow.svc.cluster.local:5000\")\n",
    "\n",
    "with mlflow.start_run():\n",
    "  n_estimators = 300\n",
    "  mlflow.log_param(\"n_estimators\", n_estimators)\n",
    "  \n",
    "  rand_forest = RandomForestRegressor(n_estimators=n_estimators)\n",
    "  rand_forest.fit(X_train, y_train)\n",
    " \n",
    "  val_x, val_y = get_validation_data()\n",
    "  mse = mean_squared_error(rand_forest.predict(val_x), val_y)\n",
    "  print(\"Validation MSE: %d\" % mse)\n",
    "  mlflow.log_metric(\"mse\", mse)\n",
    "  \n",
    "  # Specify the `registered_model_name` parameter of the `mlflow.sklearn.log_model()`\n",
    "  # function to register the model with the MLflow Model Registry. This automatically\n",
    "  # creates a new model version\n",
    "  mlflow.sklearn.log_model(\n",
    "    sk_model=rand_forest,\n",
    "    artifact_path=\"sklearn-model\",\n",
    "    registered_model_name=model_name,\n",
    "  )\n"
   ]
  },
  {
   "cell_type": "markdown",
   "id": "146961a1-51fe-4f70-8f60-ad8efb73d485",
   "metadata": {},
   "source": [
    "### Fetch the new model version ID using MLflow Model Registry Search\n",
    "The MlflowClient.search_model_versions() function searches for model versions by model name, MLflow run ID, or artifact source location. All model versions satisfying a particular filter query are returned.\n",
    "\n",
    "The following cell uses this search function to fetch the version ID of the new model. It searches for the maximum value of the version ID (that is, the most recent version)."
   ]
  },
  {
   "cell_type": "code",
   "execution_count": 32,
   "id": "c0320891-371b-4771-a3f9-4f467ebadda0",
   "metadata": {},
   "outputs": [
    {
     "name": "stdout",
     "output_type": "stream",
     "text": [
      "Model status: READY\n"
     ]
    }
   ],
   "source": [
    "from mlflow.tracking.client import MlflowClient\n",
    "client = MlflowClient()\n",
    " \n",
    "model_version_infos = client.search_model_versions(\"name = '%s'\" % model_name)\n",
    "new_model_version = max([model_version_info.version for model_version_info in model_version_infos])\n",
    "\n",
    "# Wait for the new model version to become ready.\n",
    "wait_until_ready(model_name, new_model_version)"
   ]
  },
  {
   "cell_type": "code",
   "execution_count": 33,
   "id": "8eb50607-3e8a-4850-a1c5-d8719f7600a9",
   "metadata": {},
   "outputs": [
    {
     "data": {
      "text/plain": [
       "<ModelVersion: aliases=[], creation_timestamp=1695207564052, current_stage='None', description=('This model version is a random forest containing 100 decision trees that was '\n",
       " 'trained in scikit-learn.'), last_updated_timestamp=1695207567771, name='power-forecasting-model', run_id='856b3d17e9de49b698e201ab86c1f3ca', run_link='', source='s3://mlpipeline/2/856b3d17e9de49b698e201ab86c1f3ca/artifacts/sklearn-model', status='READY', status_message='', tags={}, user_id='', version='6'>"
      ]
     },
     "execution_count": 33,
     "metadata": {},
     "output_type": "execute_result"
    }
   ],
   "source": [
    "### Add a description to the new model version\n",
    "\n",
    "client.update_model_version(\n",
    "  name=model_name,\n",
    "  version=new_model_version,\n",
    "  description=\"This model version is a random forest containing 100 decision trees that was trained in scikit-learn.\"\n",
    ")"
   ]
  },
  {
   "cell_type": "markdown",
   "id": "78646ab4-e06d-4335-bd62-6f84ba339212",
   "metadata": {},
   "source": [
    "### Transition the new model version to Staging\n",
    "Before deploying a model to a production application, it is often best practice to test it in a staging environment. The following cells transition the new model version to Staging and evaluate its performance."
   ]
  },
  {
   "cell_type": "code",
   "execution_count": 34,
   "id": "1ae7cf06-b1bc-4d0c-942a-252967a1a085",
   "metadata": {},
   "outputs": [
    {
     "data": {
      "text/plain": [
       "<ModelVersion: aliases=[], creation_timestamp=1695207564052, current_stage='Staging', description=('This model version is a random forest containing 100 decision trees that was '\n",
       " 'trained in scikit-learn.'), last_updated_timestamp=1695207643106, name='power-forecasting-model', run_id='856b3d17e9de49b698e201ab86c1f3ca', run_link='', source='s3://mlpipeline/2/856b3d17e9de49b698e201ab86c1f3ca/artifacts/sklearn-model', status='READY', status_message='', tags={}, user_id='', version='6'>"
      ]
     },
     "execution_count": 34,
     "metadata": {},
     "output_type": "execute_result"
    }
   ],
   "source": [
    "client.transition_model_version_stage(\n",
    "  name=model_name,\n",
    "  version=new_model_version,\n",
    "  stage=\"Staging\",\n",
    ")"
   ]
  },
  {
   "cell_type": "code",
   "execution_count": 35,
   "id": "a015b820-350c-4742-853a-ba2af3fae38a",
   "metadata": {},
   "outputs": [
    {
     "name": "stdout",
     "output_type": "stream",
     "text": [
      "                      0\n",
      "2020-12-22  1194.834926\n",
      "2020-12-23  2322.264644\n",
      "2020-12-24  5333.707464\n",
      "2020-12-25  7691.117400\n",
      "2020-12-26  6968.190433\n",
      "2020-12-27  2773.333593\n",
      "2020-12-28  5098.513780\n",
      "2020-12-29  8715.280557\n",
      "2020-12-30  3806.496281\n",
      "2020-12-31  1431.886419\n"
     ]
    },
    {
     "data": {
      "image/png": "[encoded data removed]",
      "text/plain": [
       "<Figure size 1100x700 with 1 Axes>"
      ]
     },
     "metadata": {},
     "output_type": "display_data"
    },
    {
     "data": {
      "text/plain": [
       "None"
      ]
     },
     "metadata": {},
     "output_type": "display_data"
    }
   ],
   "source": [
    "# Evaluate the new model's forecasting performance in Staging\n",
    "\n",
    "forecast_power(model_name, \"Staging\")"
   ]
  },
  {
   "cell_type": "markdown",
   "id": "aac22f4f-6c35-410b-9079-d759e5f2dc1d",
   "metadata": {},
   "source": [
    "## Transition the new model version to Production\n",
    "After verifying that the new model version performs well in staging, the following cells transition the model version to Production and use the exact same application code from the Forecast power output with the production model section to produce a power forecast.\n",
    "\n",
    "There are now two model versions of the forecasting model in the Production stage: the model version trained in Tensorflow Keras and the version trained in scikit-learn.\n",
    "\n",
    "When referencing a model by stage, the MLflow Model Model Registry automatically uses the latest production version. This enables you to update your production models without changing any application code.\n",
    "\n",
    "See the documentation for how to transition the model to Production using the UI."
   ]
  },
  {
   "cell_type": "code",
   "execution_count": null,
   "id": "18c7f630-1111-4bea-8597-8994e70e8444",
   "metadata": {},
   "outputs": [],
   "source": [
    "## Transition the new model version to Production using the API\n",
    "client.transition_model_version_stage(\n",
    "  name=model_name,\n",
    "  version=new_model_version,\n",
    "  stage=\"Production\",\n",
    ")"
   ]
  },
  {
   "cell_type": "code",
   "execution_count": null,
   "id": "cb659e9b-94e0-4dee-b444-e1cb0763d16a",
   "metadata": {},
   "outputs": [],
   "source": [
    "forecast_power(model_name, \"Production\")"
   ]
  },
  {
   "cell_type": "markdown",
   "id": "9572ff0f-81be-458b-95c8-8a8a090f441a",
   "metadata": {},
   "source": [
    "### Archive and delete models\n",
    "When a model version is no longer being used, you can archive it or delete it. You can also delete an entire registered model; this removes all of its associated model versions."
   ]
  },
  {
   "cell_type": "code",
   "execution_count": null,
   "id": "304c7255-636a-474d-9d70-d53a3e713fbd",
   "metadata": {},
   "outputs": [],
   "source": [
    "# Archive Version 5\n",
    "\n",
    "from mlflow.tracking.client import MlflowClient\n",
    " \n",
    "client = MlflowClient()\n",
    "client.transition_model_version_stage(\n",
    "  name=model_name,\n",
    "  version=5,\n",
    "  stage=\"Archived\",\n",
    ")"
   ]
  },
  {
   "cell_type": "markdown",
   "id": "2e7d34af-db47-4458-a33e-c22a9d71f9a0",
   "metadata": {},
   "source": [
    "### Delete Version 1 of the power forecasting model\n",
    "You can also use the MLflow UI or MLflow API to delete model versions. Model version deletion is permanent and cannot be undone.\n",
    "\n",
    "The following cells provide a reference for deleting Version 5 of the power forecasting model using the MLflow API. See the documentation for how to delete a model version using the UI."
   ]
  },
  {
   "cell_type": "code",
   "execution_count": null,
   "id": "74388cae-abe1-45aa-b882-215dc1a9fd3a",
   "metadata": {},
   "outputs": [],
   "source": [
    "client.delete_model_version(\n",
    " name=model_name,\n",
    " version=5,\n",
    ")"
   ]
  },
  {
   "cell_type": "markdown",
   "id": "0548949e-979d-43d1-8e67-4e14ac0af468",
   "metadata": {},
   "source": [
    "### Delete the power forecasting model\n",
    "If you want to delete an entire registered model, including all of its model versions, you can use the MlflowClient.delete_registered_model() to do so. This action cannot be undone. You must first transition all model version stages to None or Archived.\n",
    "\n",
    "Warning: The following cell permanently deletes the power forecasting model, including all of its versions."
   ]
  },
  {
   "cell_type": "code",
   "execution_count": null,
   "id": "49c66965-4afe-4c34-8b67-270c133d1fc7",
   "metadata": {},
   "outputs": [],
   "source": [
    "client.transition_model_version_stage(\n",
    "  name=model_name,\n",
    "  version=6,\n",
    "  stage=\"Archived\"\n",
    ")\n",
    " \n",
    "# client.delete_registered_model(name=model_name)"
   ]
  },
  {
   "cell_type": "code",
   "execution_count": null,
   "id": "70152e60-d3c7-4171-8753-c4f3ccf3c72c",
   "metadata": {},
   "outputs": [],
   "source": []
  }
 ],
 "metadata": {
  "kernelspec": {
   "display_name": "Python 3 (ipykernel)",
   "language": "python",
   "name": "python3"
  },
  "language_info": {
   "codemirror_mode": {
    "name": "ipython",
    "version": 3
   },
   "file_extension": ".py",
   "mimetype": "text/x-python",
   "name": "python",
   "nbconvert_exporter": "python",
   "pygments_lexer": "ipython3",
   "version": "3.8.10"
  }
 },
 "nbformat": 4,
 "nbformat_minor": 5
}
